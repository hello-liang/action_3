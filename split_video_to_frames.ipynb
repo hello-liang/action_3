{
 "cells": [
  {
   "cell_type": "code",
   "execution_count": 1,
   "metadata": {
    "scrolled": true
   },
   "outputs": [],
   "source": [
    "#change the video and split it to frames \n",
    "#each class have a lot of video \n",
    "#this is use python2\n",
    "\n",
    "import cv2\n",
    "import os\n",
    "root=\"/media/liang/ssd1/UCF/UCF_101/\"\n",
    "root_output=\"/media/liang/ssd1/UCF/RGB/\"\n",
    "listOfAction = os.listdir(root)\n",
    "listOfAction=listOfAction[0:20]\n",
    "for action in listOfAction:      \n",
    "    listOfFiles = os.listdir(root+action)\n",
    "    for entry in listOfFiles:\n",
    "        #here is avi video \n",
    "        video_name=entry.split('.');\n",
    "        video_name=video_name[0];  #name of video \n",
    "        vidcap = cv2.VideoCapture(root+action+'/'+entry)\n",
    "        success,image = vidcap.read()\n",
    "        count = 1\n",
    "        success = True\n",
    "        os.makedirs(root_output+action+'/'+video_name);\n",
    "\n",
    "        while success:\n",
    "          cv2.imwrite(root_output+action+'/'+video_name+\"/frame_%04d.jpg\" % count, image)     # save frame as JPEG file\n",
    "          success,image = vidcap.read()\n",
    "         # print 'Read a new frame: ', success\n",
    "          count += 1"
   ]
  },
  {
   "cell_type": "code",
   "execution_count": 7,
   "metadata": {},
   "outputs": [
    {
     "name": "stdout",
     "output_type": "stream",
     "text": [
      "['ApplyEyeMakeup', 'ApplyLipstick', 'Archery', 'BabyCrawling', 'BalanceBeam', 'BandMarching', 'BaseballPitch', 'Basketball', 'BasketballDunk', 'BenchPress', 'Biking', 'Billiards', 'BlowDryHair', 'BlowingCandles', 'BodyWeightSquats', 'Bowling', 'BoxingPunchingBag', 'BoxingSpeedBag', 'BrushingTeeth', 'CleanAndJerk', 'CliffDiving', 'CricketBowling', 'CricketShot', 'CuttingInKitchen', 'Diving', 'Drumming', 'Fencing', 'FieldHockeyPenalty', 'FloorGymnastics', 'FrisbeeCatch', 'FrontCrawl', 'GolfSwing', 'Haircut', 'Hammering', 'HammerThrow', 'HandstandPushups', 'HeadMassage', 'HighJump', 'HorseRace', 'HorseRiding', 'HulaHoop', 'IceDancing', 'JavelinThrow', 'JugglingBalls', 'JumpingJack', 'JumpRope', 'Kayaking', 'Knitting', 'LongJump', 'Lunges', 'MilitaryParade', 'Mixing', 'MoppingFloor', 'Nunchucks', 'PizzaTossing', 'PlayingCello', 'PlayingDaf', 'PlayingDhol', 'PlayingFlute', 'PlayingGuitar', 'PlayingPiano', 'PlayingSitar', 'PlayingTabla', 'PlayingViolin', 'PoleVault', 'PommelHorse', 'PullUps', 'Punch', 'PushUps', 'Rafting', 'RockClimbingIndoor', 'RopeClimbing', 'Rowing', 'BreastStroke', 'HandstandWalking', 'ParallelBars', 'SalsaSpin', 'ShavingBeard', 'Shotput', 'SkateBoarding', 'Skiing', 'Skijet', 'SkyDiving', 'SoccerJuggling', 'SoccerPenalty', 'StillRings', 'SumoWrestling', 'Surfing', 'Swing', 'TableTennisShot', 'TaiChi', 'TennisSwing', 'ThrowDiscus', 'TrampolineJumping', 'Typing', 'UnevenBars', 'VolleyballSpiking', 'WalkingWithDog', 'WallPushups', 'WritingOnBoard', 'YoYo']\n",
      "['Archery', 'BabyCrawling', 'BalanceBeam']\n"
     ]
    }
   ],
   "source": [
    "#change the video and split it to frames \n",
    "#each class have a lot of video \n",
    "#this is use python2\n",
    "\n",
    "import cv2\n",
    "import os\n",
    "root=\"/media/liang/ssd1/UCF/UCF_101/\"\n",
    "root_output=\"/media/liang/ssd1/UCF/RGB/\"\n",
    "listOfAction = os.listdir(root)\n",
    "print(listOfAction)\n",
    "#0:2   2:10 10:100\n",
    "listOfAction=listOfAction[2:101]\n",
    "print(listOfAction)\n",
    "\n"
   ]
  }
 ],
 "metadata": {
  "kernelspec": {
   "display_name": "Python 2",
   "language": "python",
   "name": "python2"
  },
  "language_info": {
   "codemirror_mode": {
    "name": "ipython",
    "version": 2
   },
   "file_extension": ".py",
   "mimetype": "text/x-python",
   "name": "python",
   "nbconvert_exporter": "python",
   "pygments_lexer": "ipython2",
   "version": "2.7.17"
  }
 },
 "nbformat": 4,
 "nbformat_minor": 2
}
