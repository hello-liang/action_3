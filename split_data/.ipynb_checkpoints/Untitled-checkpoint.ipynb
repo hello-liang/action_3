{
 "cells": [
  {
   "cell_type": "code",
   "execution_count": 3,
   "metadata": {},
   "outputs": [
    {
     "ename": "KeyboardInterrupt",
     "evalue": "",
     "output_type": "error",
     "traceback": [
      "\u001b[0;31m---------------------------------------------------------------------------\u001b[0m",
      "\u001b[0;31mKeyboardInterrupt\u001b[0m                         Traceback (most recent call last)",
      "\u001b[0;32m<ipython-input-3-1eddfe6795dc>\u001b[0m in \u001b[0;36m<module>\u001b[0;34m()\u001b[0m\n\u001b[1;32m     32\u001b[0m \u001b[0;34m\u001b[0m\u001b[0m\n\u001b[1;32m     33\u001b[0m         \u001b[0;32mwhile\u001b[0m \u001b[0msuccess\u001b[0m\u001b[0;34m:\u001b[0m\u001b[0;34m\u001b[0m\u001b[0m\n\u001b[0;32m---> 34\u001b[0;31m           \u001b[0mcv2\u001b[0m\u001b[0;34m.\u001b[0m\u001b[0mimwrite\u001b[0m\u001b[0;34m(\u001b[0m\u001b[0mroot_output\u001b[0m\u001b[0;34m+\u001b[0m\u001b[0maction\u001b[0m\u001b[0;34m+\u001b[0m\u001b[0;34m'/'\u001b[0m\u001b[0;34m+\u001b[0m\u001b[0mvideo_name\u001b[0m\u001b[0;34m+\u001b[0m\u001b[0;34m\"/frame_%04d.jpg\"\u001b[0m \u001b[0;34m%\u001b[0m \u001b[0mcount\u001b[0m\u001b[0;34m,\u001b[0m \u001b[0mimage\u001b[0m\u001b[0;34m)\u001b[0m     \u001b[0;31m# save frame as JPEG file\u001b[0m\u001b[0;34m\u001b[0m\u001b[0m\n\u001b[0m\u001b[1;32m     35\u001b[0m           \u001b[0msuccess\u001b[0m\u001b[0;34m,\u001b[0m\u001b[0mimage\u001b[0m \u001b[0;34m=\u001b[0m \u001b[0mvidcap\u001b[0m\u001b[0;34m.\u001b[0m\u001b[0mread\u001b[0m\u001b[0;34m(\u001b[0m\u001b[0;34m)\u001b[0m\u001b[0;34m\u001b[0m\u001b[0m\n\u001b[1;32m     36\u001b[0m           \u001b[0mf\u001b[0m\u001b[0;34m.\u001b[0m\u001b[0mwrite\u001b[0m\u001b[0;34m(\u001b[0m\u001b[0maction\u001b[0m\u001b[0;34m+\u001b[0m\u001b[0;34m'/'\u001b[0m\u001b[0;34m+\u001b[0m\u001b[0mvideo_name\u001b[0m\u001b[0;34m+\u001b[0m\u001b[0;34m\"\\t\"\u001b[0m\u001b[0;34m+\u001b[0m\u001b[0mstr\u001b[0m\u001b[0;34m(\u001b[0m\u001b[0mclass_i\u001b[0m\u001b[0;34m)\u001b[0m\u001b[0;34m+\u001b[0m\u001b[0;34m\"\\n\"\u001b[0m\u001b[0;34m)\u001b[0m\u001b[0;34m\u001b[0m\u001b[0m\n",
      "\u001b[0;31mKeyboardInterrupt\u001b[0m: "
     ]
    }
   ],
   "source": [
    "#change the video and split it to frames \n",
    "#each class have a lot of video \n",
    "#this is use python2\n",
    "\n",
    "import cv2\n",
    "import os\n",
    "root=\"/media/liang/ssd1/action_3_unsupervisor/video/\"\n",
    "#root_output=\"/media/liang/ssd1/UCF/RGB/\"\n",
    "root_output=\"/media/liang/ssd1/action_3_unsupervisor/RGB/\"\n",
    "\n",
    "\n",
    "f=file(\"/media/liang/ssd1/action_3_unsupervisor/video_list.txt\", \"a+\")\n",
    "\n",
    "\n",
    "\n",
    "class_i=0\n",
    "\n",
    "listOfAction = os.listdir(root)\n",
    "listOfAction=listOfAction[0:20]\n",
    "for action in listOfAction:  \n",
    "    \n",
    "    listOfFiles = os.listdir(root+action)\n",
    "    for entry in listOfFiles:\n",
    "        #here is avi video \n",
    "        video_name=entry.split('.');\n",
    "        video_name=video_name[0];  #name of video \n",
    "        vidcap = cv2.VideoCapture(root+action+'/'+entry)\n",
    "        success,image = vidcap.read()\n",
    "        count = 1\n",
    "        success = True\n",
    "        os.makedirs(root_output+action+'/'+video_name);\n",
    "        print(action+'/'+video_name)\n",
    "        f.write(action+'/'+video_name+\"\\t\"+str(class_i)+\"\\n\")\n",
    "\n",
    "        while success:\n",
    "          cv2.imwrite(root_output+action+'/'+video_name+\"/frame_%04d.jpg\" % count, image)     # save frame as JPEG file\n",
    "          success,image = vidcap.read()\n",
    "  \n",
    "         # print 'Read a new frame: ', success\n",
    "          count += 1\n",
    "    class_i += 1\n",
    "    print(class_i)\n",
    "\n",
    "            \n",
    "f.close()\n",
    "\n"
   ]
  },
  {
   "cell_type": "code",
   "execution_count": null,
   "metadata": {},
   "outputs": [],
   "source": []
  }
 ],
 "metadata": {
  "kernelspec": {
   "display_name": "Python 2",
   "language": "python",
   "name": "python2"
  },
  "language_info": {
   "codemirror_mode": {
    "name": "ipython",
    "version": 2
   },
   "file_extension": ".py",
   "mimetype": "text/x-python",
   "name": "python",
   "nbconvert_exporter": "python",
   "pygments_lexer": "ipython2",
   "version": "2.7.16"
  }
 },
 "nbformat": 4,
 "nbformat_minor": 2
}
