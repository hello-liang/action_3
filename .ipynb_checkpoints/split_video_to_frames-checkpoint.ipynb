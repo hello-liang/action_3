{
 "cells": [
  {
   "cell_type": "code",
   "execution_count": 2,
   "metadata": {},
   "outputs": [
    {
     "name": "stdout",
     "output_type": "stream",
     "text": [
      "v_ArmFlapping_13\n"
     ]
    },
    {
     "ename": "KeyboardInterrupt",
     "evalue": "",
     "output_type": "error",
     "traceback": [
      "\u001b[0;31m---------------------------------------------------------------------------\u001b[0m",
      "\u001b[0;31mKeyboardInterrupt\u001b[0m                         Traceback (most recent call last)",
      "\u001b[0;32m<ipython-input-2-3d4926146ad9>\u001b[0m in \u001b[0;36m<module>\u001b[0;34m()\u001b[0m\n\u001b[1;32m     25\u001b[0m \u001b[0;34m\u001b[0m\u001b[0m\n\u001b[1;32m     26\u001b[0m     \u001b[0;32mwhile\u001b[0m \u001b[0msuccess\u001b[0m\u001b[0;34m:\u001b[0m\u001b[0;34m\u001b[0m\u001b[0m\n\u001b[0;32m---> 27\u001b[0;31m       \u001b[0mcv2\u001b[0m\u001b[0;34m.\u001b[0m\u001b[0mimwrite\u001b[0m\u001b[0;34m(\u001b[0m\u001b[0mroot\u001b[0m\u001b[0;34m+\u001b[0m\u001b[0mvideo_name\u001b[0m\u001b[0;34m+\u001b[0m\u001b[0;34m\"/frame_%d.jpg\"\u001b[0m \u001b[0;34m%\u001b[0m \u001b[0mcount\u001b[0m\u001b[0;34m,\u001b[0m \u001b[0mimage\u001b[0m\u001b[0;34m)\u001b[0m     \u001b[0;31m# save frame as JPEG file\u001b[0m\u001b[0;34m\u001b[0m\u001b[0m\n\u001b[0m\u001b[1;32m     28\u001b[0m       \u001b[0msuccess\u001b[0m\u001b[0;34m,\u001b[0m\u001b[0mimage\u001b[0m \u001b[0;34m=\u001b[0m \u001b[0mvidcap\u001b[0m\u001b[0;34m.\u001b[0m\u001b[0mread\u001b[0m\u001b[0;34m(\u001b[0m\u001b[0;34m)\u001b[0m\u001b[0;34m\u001b[0m\u001b[0m\n\u001b[1;32m     29\u001b[0m      \u001b[0;31m# print 'Read a new frame: ', success\u001b[0m\u001b[0;34m\u001b[0m\u001b[0;34m\u001b[0m\u001b[0m\n",
      "\u001b[0;31mKeyboardInterrupt\u001b[0m: "
     ]
    }
   ],
   "source": [
    "#change the video and split it to frames \n",
    "\n",
    "#this is use python2\n",
    "\n",
    "import cv2\n",
    "\n",
    "import os\n",
    "\n",
    "root=\"/media/liang/ssd1/action_3_unsupervisor/extract_feature/\"\n",
    "listOfFiles = os.listdir(root+'video/')\n",
    "f = open(root+'video_list.txt', 'a')\n",
    "\n",
    "\n",
    "for entry in listOfFiles:\n",
    "    video_name=entry.split('.');\n",
    "    video_name=video_name[0];\n",
    "    f.write(video_name+\"\\n\");\n",
    "\n",
    "    print(video_name)\n",
    "    vidcap = cv2.VideoCapture(root+'video/'+entry)\n",
    "    success,image = vidcap.read()\n",
    "    count = 1\n",
    "    success = True\n",
    "    os.mkdir(root+video_name);\n",
    "\n",
    "    while success:\n",
    "      cv2.imwrite(root+video_name+\"/frame_%d.jpg\" % count, image)     # save frame as JPEG file\n",
    "      success,image = vidcap.read()\n",
    "     # print 'Read a new frame: ', success\n",
    "      count += 1\n",
    "f.close()"
   ]
  }
 ],
 "metadata": {
  "kernelspec": {
   "display_name": "Python 2",
   "language": "python",
   "name": "python2"
  },
  "language_info": {
   "codemirror_mode": {
    "name": "ipython",
    "version": 2
   },
   "file_extension": ".py",
   "mimetype": "text/x-python",
   "name": "python",
   "nbconvert_exporter": "python",
   "pygments_lexer": "ipython2",
   "version": "2.7.16"
  }
 },
 "nbformat": 4,
 "nbformat_minor": 2
}
