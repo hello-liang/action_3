{
 "cells": [
  {
   "cell_type": "code",
   "execution_count": 1,
   "metadata": {},
   "outputs": [],
   "source": [
    "\n",
    "#读取第一个CSV文件并包含表头 \n",
    "\n",
    "import numpy as np\n",
    "import pandas as pd\n",
    "import os\n",
    "import scipy.io as sio\n",
    "Folder_Path = '/media/liang/ssd2/action_3/extract_feature/results/'\n",
    "          #要拼接的文件夹及其完整路径，注意不要包含中文\n",
    "SaveFile_Path = '/media/liang/ssd2/action_3/extract_feature/'       #拼接后要保存的文件路径\n",
    "SaveFile_Name_1 = 'feature.csv'             #合并后要保存的文件名\n",
    "SaveFile_Name_2 = 'label.csv'             #合并后要保存的文件名\n",
    "\n",
    "#修改当前工作目录\n",
    "#将该文件夹下的所有文件名存入一个列表\n",
    "file_list = os.listdir(Folder_Path)\n",
    "\n",
    "df = sio.loadmat(Folder_Path + file_list[0])  #编码默认UTF-8，若乱码自行更改\n",
    "label= df['frames']\n",
    "\n",
    "feature=df['feat']\n",
    "\n",
    "\n",
    "\n",
    "#循环遍历列表中各个CSV文件名，并追加到合并后的文件  \n",
    "FileStart = 1\n",
    "FileEnd = len(file_list)\n",
    "for i in range(FileStart,FileEnd):  \n",
    "    df = sio.loadmat(Folder_Path + file_list[i])  #编码默认UTF-8，若乱码自行更改\n",
    "    label_1= df['frames']\n",
    "    feature_1=df['feat']\n",
    "   \n",
    "    feature=np.vstack((feature,feature_1))\n",
    "    label=np.hstack((label,label_1))\n",
    "\n",
    "    \n",
    "np.savetxt('/media/liang/ssd2/action_3/extract_feature/feature.csv', feature, delimiter=',')\n",
    "\n",
    "\n",
    "    \n",
    " "
   ]
  },
  {
   "cell_type": "code",
   "execution_count": 2,
   "metadata": {},
   "outputs": [
    {
     "name": "stdout",
     "output_type": "stream",
     "text": [
      "148432\n",
      "148432\n",
      "148432\n"
     ]
    },
    {
     "data": {
      "text/plain": [
       "array([[ 0.06109791, -0.08920485, -0.00585974, ...,  0.00873499,\n",
       "         0.0385638 ,  0.10607233],\n",
       "       [ 0.05101614, -0.09694473, -0.02173956, ..., -0.01822174,\n",
       "         0.03367897,  0.10935079],\n",
       "       [ 0.04206094, -0.10846452, -0.02869263, ..., -0.02251937,\n",
       "         0.02286973,  0.11223029]], dtype=float32)"
      ]
     },
     "execution_count": 2,
     "metadata": {},
     "output_type": "execute_result"
    }
   ],
   "source": [
    "label_list=[]\n",
    "for label_item in label:\n",
    "    if (label_item.find(\"ArmFlapping\")!=-1):\n",
    "        label_list.append(0)\n",
    "    elif(label_item.find(\"HeadBanging\")!=-1):\n",
    "        label_list.append(1)\n",
    "    elif(label_item.find(\"Spinning\")!=-1):\n",
    "        label_list.append(2)\n",
    "        \n",
    "print(len(label))\n",
    "print(len(label_list))\n",
    "np.savetxt('/media/liang/ssd2/action_3/extract_feature/label.csv', np.asarray(label_list), delimiter=',')\n",
    "\n",
    "    \n",
    "\n",
    "import numpy as np\n",
    "import pandas as pd\n",
    "from matplotlib import pyplot as plt\n",
    "from sklearn.datasets.samples_generator import make_blobs\n",
    "from sklearn.cluster import KMeans\n",
    "\n",
    "kmeans = KMeans(n_clusters=3, random_state=0).fit(feature)\n",
    "#print(kmeans.labels_)\n",
    "\n",
    "print(len(kmeans.labels_))\n",
    "\n",
    "np.savetxt('/media/liang/ssd2/action_3/extract_feature/predict_label.csv', kmeans.labels_, delimiter=',')\n",
    "label_predict=kmeans.labels_\n",
    "kmeans.cluster_centers_"
   ]
  },
  {
   "cell_type": "code",
   "execution_count": 3,
   "metadata": {},
   "outputs": [
    {
     "name": "stdout",
     "output_type": "stream",
     "text": [
      "1.5082865147151847\n"
     ]
    }
   ],
   "source": [
    "data=np.vstack((label_list,label_predict))\n",
    "entropy=0\n",
    "for i in range(3):\n",
    "    p_item=len(data[1,data[0,:]==i])/float(len(data[0,:]))\n",
    "    entropy_1=0\n",
    "    for j  in range(3):\n",
    "            all=data[1,data[0,:]==i] #select from 0 row \n",
    "            all_item=all[all==j]\n",
    "            fre=len(all_item)/float(len(all))\n",
    "            entropy_item=-fre*np.log2(fre)\n",
    "            entropy_1=entropy_1+entropy_item\n",
    "    entropy=entropy+p_item*entropy_1\n",
    "    \n",
    "            \n",
    "print(entropy)\n",
    " \n",
    "\n",
    "\n",
    "\n"
   ]
  },
  {
   "cell_type": "code",
   "execution_count": 4,
   "metadata": {},
   "outputs": [
    {
     "data": {
      "text/plain": [
       "1.584962500721156"
      ]
     },
     "execution_count": 4,
     "metadata": {},
     "output_type": "execute_result"
    }
   ],
   "source": [
    "np.log2(3)"
   ]
  },
  {
   "cell_type": "code",
   "execution_count": 13,
   "metadata": {},
   "outputs": [
    {
     "name": "stdout",
     "output_type": "stream",
     "text": [
      "62842\n",
      "0\n",
      "0\n",
      "0\n",
      "35706\n",
      "0\n",
      "0\n",
      "0\n",
      "49884\n"
     ]
    },
    {
     "name": "stderr",
     "output_type": "stream",
     "text": [
      "/home/liang/anaconda2/lib/python2.7/site-packages/ipykernel_launcher.py:16: RuntimeWarning: divide by zero encountered in log2\n",
      "  app.launch_new_instance()\n",
      "/home/liang/anaconda2/lib/python2.7/site-packages/ipykernel_launcher.py:16: RuntimeWarning: invalid value encountered in double_scalars\n",
      "  app.launch_new_instance()\n"
     ]
    }
   ],
   "source": [
    "label_predict=label_list\n",
    "np.random.shuffle(label_predict)\n",
    "data=np.vstack((label_list,label_predict))\n",
    "entropy=0\n",
    "for i in range(3):\n",
    "    p_item=len(data[1,data[0,:]==i])/float(len(data[0,:]))\n",
    "    entropy_1=0\n",
    "    for j  in range(3):\n",
    "            all=data[1,data[0,:]==i] #select from 0 row \n",
    "\n",
    "\n",
    "            all_item=all[all==j]\n",
    "            print(len(all_item))\n",
    "\n",
    "            fre=len(all_item)/float(len(all))\n",
    "            entropy_item=-fre*np.log2(fre)\n",
    "            entropy_1=entropy_1+entropy_item\n",
    "    entropy=entropy+p_item*entropy_1\n",
    "    \n",
    "            \n",
    " \n",
    "\n"
   ]
  },
  {
   "cell_type": "code",
   "execution_count": 9,
   "metadata": {},
   "outputs": [
    {
     "data": {
      "text/plain": [
       "49884"
      ]
     },
     "execution_count": 9,
     "metadata": {},
     "output_type": "execute_result"
    }
   ],
   "source": [
    "len(data[1,data[0,:]==2])"
   ]
  },
  {
   "cell_type": "code",
   "execution_count": null,
   "metadata": {},
   "outputs": [],
   "source": []
  },
  {
   "cell_type": "code",
   "execution_count": null,
   "metadata": {},
   "outputs": [],
   "source": []
  }
 ],
 "metadata": {
  "kernelspec": {
   "display_name": "Python 2",
   "language": "python",
   "name": "python2"
  },
  "language_info": {
   "codemirror_mode": {
    "name": "ipython",
    "version": 2
   },
   "file_extension": ".py",
   "mimetype": "text/x-python",
   "name": "python",
   "nbconvert_exporter": "python",
   "pygments_lexer": "ipython2",
   "version": "2.7.16"
  }
 },
 "nbformat": 4,
 "nbformat_minor": 2
}
